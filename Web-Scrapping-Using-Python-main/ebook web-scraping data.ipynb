{
 "cells": [
  {
   "cell_type": "code",
   "execution_count": 1,
   "id": "c19ec554",
   "metadata": {},
   "outputs": [],
   "source": [
    "import requests\n",
    "import pandas as pd"
   ]
  },
  {
   "cell_type": "code",
   "execution_count": 2,
   "id": "3eddf723",
   "metadata": {},
   "outputs": [],
   "source": [
    "cookies = {\n",
    "    '__cflb': '02DiuEnpWqjzEfhLpxZQz37qrxw1gPiwMr6dhNhAfiWEQ',\n",
    "    '_ga': 'GA1.2.1528891454.1655997209',\n",
    "    '_gid': 'GA1.2.1767084106.1655997209',\n",
    "    '_gcl_au': '1.1.163076016.1655997209',\n",
    "    '.AspNetCore.Antiforgery.mY7Vq31ESSw': 'CfDJ8JSGw9DZmpJNo6OWny83R70vZbeEdFslyHhahf8lMYYi8-f0vi7ielV-8lTL7OvBRxO6HBVovyAWECwKukyy_t35IqWnWh_SJCyG-_Y2GkXhghhoWVKzdiAa4mf_G1QbqgUsWIPZDI0p7XpPOGfur8E',\n",
    "    '_gat_gtag_UA_2325867_1': '1',\n",
    "}\n",
    "\n",
    "headers = {\n",
    "    'authority': 'www.ebooks.com',\n",
    "    'accept': '*/*',\n",
    "    'accept-language': 'en-IN,en-GB;q=0.9,en-US;q=0.8,en;q=0.7',\n",
    "    'content-type': 'application/json',\n",
    "    # Requests sorts cookies= alphabetically\n",
    "    # 'cookie': '__cflb=02DiuEnpWqjzEfhLpxZQz37qrxw1gPiwMr6dhNhAfiWEQ; _ga=GA1.2.1528891454.1655997209; _gid=GA1.2.1767084106.1655997209; _gcl_au=1.1.163076016.1655997209; .AspNetCore.Antiforgery.mY7Vq31ESSw=CfDJ8JSGw9DZmpJNo6OWny83R70vZbeEdFslyHhahf8lMYYi8-f0vi7ielV-8lTL7OvBRxO6HBVovyAWECwKukyy_t35IqWnWh_SJCyG-_Y2GkXhghhoWVKzdiAa4mf_G1QbqgUsWIPZDI0p7XpPOGfur8E; _gat_gtag_UA_2325867_1=1',\n",
    "    'referer': 'https://www.ebooks.com/en-in/subject/bestsellers/85/',\n",
    "    'sec-ch-ua': '\" Not A;Brand\";v=\"99\", \"Chromium\";v=\"102\", \"Google Chrome\";v=\"102\"',\n",
    "    'sec-ch-ua-mobile': '?0',\n",
    "    'sec-ch-ua-platform': '\"Windows\"',\n",
    "    'sec-fetch-dest': 'empty',\n",
    "    'sec-fetch-mode': 'cors',\n",
    "    'sec-fetch-site': 'same-origin',\n",
    "    'user-agent': 'Mozilla/5.0 (Windows NT 10.0; Win64; x64) AppleWebKit/537.36 (KHTML, like Gecko) Chrome/102.0.0.0 Safari/537.36',\n",
    "}\n",
    "\n",
    "params = {\n",
    "    'subjectId': '85',\n",
    "    'countryCode': 'IN',\n",
    "}\n",
    "\n",
    "response = requests.get('https://www.ebooks.com/api/subject/slider', params=params, cookies=cookies, headers=headers)"
   ]
  },
  {
   "cell_type": "code",
   "execution_count": 3,
   "id": "9ae8bed2",
   "metadata": {},
   "outputs": [
    {
     "data": {
      "text/plain": [
       "<Response [200]>"
      ]
     },
     "execution_count": 3,
     "metadata": {},
     "output_type": "execute_result"
    }
   ],
   "source": [
    "response"
   ]
  },
  {
   "cell_type": "code",
   "execution_count": 4,
   "id": "8d454ae6",
   "metadata": {},
   "outputs": [
    {
     "data": {
      "text/plain": [
       "{'tabs': [{'name': 'Featured Titles',\n",
       "   'web_name': 'featuredtitles',\n",
       "   'books': [{'title': \"A Student's Guide to Special Relativity\",\n",
       "     'book_detail_url': '/en-in/book/210437085/a-student-s-guide-to-special-relativity/norman-gray/',\n",
       "     'author': 'Norman Gray',\n",
       "     'author_url': '/en-in/author/norman-gray/94360103/',\n",
       "     'cover_image_medium': 'https://image.ebooks.com/previews/210/210437/210437085/210437085-sml-1.jpg',\n",
       "     'alt_thumbnail_tag': \"A Student's Guide to Special Relativity\",\n",
       "     'price': 'US$19.00'},\n",
       "    {'title': 'Geopedia',\n",
       "     'book_detail_url': '/en-in/book/210383461/geopedia/marcia-bjornerud/',\n",
       "     'author': 'Marcia Bjornerud',\n",
       "     'author_url': '/en-in/author/marcia-bjornerud/446066/',\n",
       "     'cover_image_medium': 'https://image.ebooks.com/previews/210/210383/210383461/210383461-sml-1.jpg',\n",
       "     'alt_thumbnail_tag': 'Geopedia: A Brief Compendium of Geologic Curiosities',\n",
       "     'price': 'Not Available'},\n",
       "    {'title': 'What Is Science? A Guide For Those Who Love It, Hate It, Or Fear It',\n",
       "     'book_detail_url': '/en-in/book/210273008/what-is-science-a-guide-for-those-who-love-it-hate-it-or-fear-it/elof-axel-carlson/',\n",
       "     'author': 'Elof Axel Carlson',\n",
       "     'author_url': '/en-in/author/elof-axel-carlson/548278/',\n",
       "     'cover_image_medium': 'https://image.ebooks.com/previews/210/210273/210273008/210273008-sml-1.jpg',\n",
       "     'alt_thumbnail_tag': 'What Is Science? A Guide For Those Who Love It, Hate It, Or Fear It',\n",
       "     'price': 'US$20.02'},\n",
       "    {'title': 'Everybody Hertz',\n",
       "     'book_detail_url': '/en-in/book/210332305/everybody-hertz/richard-mainwaring/',\n",
       "     'author': 'Richard Mainwaring',\n",
       "     'author_url': '/en-in/author/richard-mainwaring/208586446/',\n",
       "     'cover_image_medium': 'https://image.ebooks.com/previews/210/210332/210332305/210332305-sml-1.jpg',\n",
       "     'alt_thumbnail_tag': 'Everybody Hertz: The Amazing World of Frequency, from Bad Vibes to Good Vibrations',\n",
       "     'price': 'US$18.99'},\n",
       "    {'title': 'Must Know High School Chemistry, Second Edition',\n",
       "     'book_detail_url': '/en-in/book/210562540/must-know-high-school-chemistry-second-edition/john-t-moore/',\n",
       "     'author': 'John T. Moore',\n",
       "     'author_url': '/en-in/author/john-t.-moore/131301/',\n",
       "     'cover_image_medium': 'https://image.ebooks.com/previews/210/210562/210562540/210562540-sml-1.jpg',\n",
       "     'alt_thumbnail_tag': 'Must Know High School Chemistry, Second Edition',\n",
       "     'price': 'US$13.50'},\n",
       "    {'title': 'Different',\n",
       "     'book_detail_url': '/en-in/book/210363184/different/frans-de-waal/',\n",
       "     'author': 'Frans de Waal',\n",
       "     'author_url': '/en-in/author/frans-de-waal/94851/',\n",
       "     'cover_image_medium': 'https://image.ebooks.com/previews/210/210363/210363184/210363184-sml-1.jpg',\n",
       "     'alt_thumbnail_tag': 'Different: What Apes Can Teach Us About Gender',\n",
       "     'price': 'US$24.53'},\n",
       "    {'title': 'Physics I: 501 Practice Problems For Dummies (+ Free Online Practice)',\n",
       "     'book_detail_url': '/en-in/book/210551364/physics-i-501-practice-problems-for-dummies-free-online-practice/the-experts-at-dummies/',\n",
       "     'author': 'The Experts at Dummies',\n",
       "     'author_url': '/en-in/author/the-experts-at-dummies/208618158/',\n",
       "     'cover_image_medium': 'https://image.ebooks.com/previews/210/210551/210551364/210551364-sml-1.jpg',\n",
       "     'alt_thumbnail_tag': 'Physics I: 501 Practice Problems For Dummies (+ Free Online Practice)',\n",
       "     'price': 'US$26.50'},\n",
       "    {'title': 'Brain Fever: How Vaccines Prevent Meningitis And Other Killer Diseases',\n",
       "     'book_detail_url': '/en-in/book/210336743/brain-fever-how-vaccines-prevent-meningitis-and-other-killer-diseases/richard-moxon/',\n",
       "     'author': 'Richard Moxon',\n",
       "     'author_url': '/en-in/author/richard-moxon/208588696/',\n",
       "     'cover_image_medium': 'https://image.ebooks.com/previews/210/210336/210336743/210336743-sml-1.jpg',\n",
       "     'alt_thumbnail_tag': 'Brain Fever: How Vaccines Prevent Meningitis And Other Killer Diseases',\n",
       "     'price': 'US$16.38'},\n",
       "    {'title': 'A Field Guide to Climate Anxiety',\n",
       "     'book_detail_url': '/en-in/book/209936986/a-field-guide-to-climate-anxiety/sarah-jaquette-ray/',\n",
       "     'author': 'Sarah Jaquette Ray',\n",
       "     'author_url': '/en-in/author/sarah-jaquette-ray/1334167/',\n",
       "     'cover_image_medium': 'https://image.ebooks.com/previews/209/209936/209936986/209936986-sml-1.jpg',\n",
       "     'alt_thumbnail_tag': 'A Field Guide to Climate Anxiety: How to Keep Your Cool on a Warming Planet',\n",
       "     'price': 'US$16.95'},\n",
       "    {'title': 'The Lives of Fungi',\n",
       "     'book_detail_url': '/en-in/book/210376626/the-lives-of-fungi/britt-bunyard/',\n",
       "     'author': 'Britt Bunyard',\n",
       "     'author_url': '/en-in/author/britt-bunyard/208520405/',\n",
       "     'cover_image_medium': 'https://image.ebooks.com/previews/210/210376/210376626/210376626-sml-1.jpg',\n",
       "     'alt_thumbnail_tag': \"The Lives of Fungi: A Natural History of Our Planet's Decomposers\",\n",
       "     'price': 'Not Available'},\n",
       "    {'title': 'The Matter of Everything',\n",
       "     'book_detail_url': '/en-in/book/210520455/the-matter-of-everything/suzie-sheehy/',\n",
       "     'author': 'Suzie Sheehy',\n",
       "     'author_url': '/en-in/author/suzie-sheehy/208661047/',\n",
       "     'cover_image_medium': 'https://image.ebooks.com/previews/210/210520/210520455/210520455-sml-1.jpg',\n",
       "     'alt_thumbnail_tag': 'The Matter of Everything: Twelve Experiments that Changed Our World',\n",
       "     'price': 'US$20.60'},\n",
       "    {'title': 'What Is a Quantum Field Theory?',\n",
       "     'book_detail_url': '/en-in/book/210499348/what-is-a-quantum-field-theory/michel-talagrand/',\n",
       "     'author': 'Michel Talagrand',\n",
       "     'author_url': '/en-in/author/michel-talagrand/69039/',\n",
       "     'cover_image_medium': 'https://image.ebooks.com/previews/210/210499/210499348/210499348-sml-1.jpg',\n",
       "     'alt_thumbnail_tag': 'What Is a Quantum Field Theory?',\n",
       "     'price': 'US$72.00'}],\n",
       "   'selected': True},\n",
       "  {'name': 'Bestsellers',\n",
       "   'web_name': 'bestsellers',\n",
       "   'books': [{'title': 'Introduction to Modern Climate Change',\n",
       "     'book_detail_url': '/en-in/book/210338386/introduction-to-modern-climate-change/andrew-e-dessler/',\n",
       "     'author': 'Andrew E. Dessler',\n",
       "     'author_url': '/en-in/author/andrew-e.-dessler/62382/',\n",
       "     'cover_image_medium': 'https://image.ebooks.com/previews/210/210338/210338386/210338386-sml-1.jpg',\n",
       "     'alt_thumbnail_tag': 'Introduction to Modern Climate Change',\n",
       "     'price': 'US$36.00'},\n",
       "    {'title': 'The Memory Illusion',\n",
       "     'book_detail_url': '/en-in/book/2524325/the-memory-illusion/julia-shaw/',\n",
       "     'author': 'Julia Shaw',\n",
       "     'author_url': '/en-in/author/julia-shaw/873238/',\n",
       "     'cover_image_medium': 'https://image.ebooks.com/previews/002/002524/002524325/002524325-sml-1.jpg',\n",
       "     'alt_thumbnail_tag': 'The Memory Illusion: Remembering, Forgetting, and the Science of False Memory',\n",
       "     'price': 'US$4.78'},\n",
       "    {'title': 'Principles of Heating, Ventilation, and Air Conditioning in Buildings',\n",
       "     'book_detail_url': '/en-in/book/1887753/principles-of-heating-ventilation-and-air-conditioning-in-buildings/john-w-mitchell/',\n",
       "     'author': 'John W. Mitchell',\n",
       "     'author_url': '/en-in/author/john-w.-mitchell/859991/',\n",
       "     'cover_image_medium': 'https://image.ebooks.com/previews/001/001887/001887753/001887753-sml-1.jpg',\n",
       "     'alt_thumbnail_tag': 'Principles of Heating, Ventilation, and Air Conditioning in Buildings',\n",
       "     'price': 'US$57.60'},\n",
       "    {'title': 'Chemistry',\n",
       "     'book_detail_url': '/en-in/book/210188573/chemistry/thomas-r-gilbert/',\n",
       "     'author': 'Thomas R. Gilbert',\n",
       "     'author_url': '/en-in/author/thomas-r.-gilbert/552744/',\n",
       "     'cover_image_medium': 'https://image.ebooks.com/previews/210/210188/210188573/210188573-sml-1.jpg',\n",
       "     'alt_thumbnail_tag': 'Chemistry',\n",
       "     'price': 'US$49.50'},\n",
       "    {'title': \"Sidney Coleman's Lectures on Relativity\",\n",
       "     'book_detail_url': '/en-in/book/210437097/sidney-coleman-s-lectures-on-relativity/david-j-griffiths/',\n",
       "     'author': 'David J. Griffiths',\n",
       "     'author_url': '/en-in/author/david-j.-griffiths/522488/',\n",
       "     'cover_image_medium': 'https://image.ebooks.com/previews/210/210437/210437097/210437097-sml-1.jpg',\n",
       "     'alt_thumbnail_tag': \"Sidney Coleman's Lectures on Relativity\",\n",
       "     'price': 'US$28.00'},\n",
       "    {'title': 'We Are the Weather',\n",
       "     'book_detail_url': '/en-in/book/209592348/we-are-the-weather/jonathan-safran-foer/',\n",
       "     'author': 'Jonathan Safran Foer',\n",
       "     'author_url': '/en-in/author/jonathan-safran-foer/192009/',\n",
       "     'cover_image_medium': 'https://image.ebooks.com/previews/209/209592/209592348/209592348-sml-1.jpg',\n",
       "     'alt_thumbnail_tag': 'We Are the Weather: Saving the Planet Begins at Breakfast',\n",
       "     'price': 'Not Available'},\n",
       "    {'title': 'The Selfish Gene',\n",
       "     'book_detail_url': '/en-in/book/2603775/the-selfish-gene/richard-dawkins/',\n",
       "     'author': 'Richard Dawkins',\n",
       "     'author_url': '/en-in/author/richard-dawkins/170654/',\n",
       "     'cover_image_medium': 'https://image.ebooks.com/previews/002/002603/002603775/002603775-sml-1.jpg',\n",
       "     'alt_thumbnail_tag': 'The Selfish Gene: 40th Anniversary edition',\n",
       "     'price': 'US$9.89'},\n",
       "    {'title': 'A Prelude to Quantum Field Theory',\n",
       "     'book_detail_url': '/en-in/book/210354445/a-prelude-to-quantum-field-theory/john-donoghue/',\n",
       "     'author': 'John Donoghue',\n",
       "     'author_url': '/en-in/author/john-donoghue/453600/',\n",
       "     'cover_image_medium': 'https://image.ebooks.com/previews/210/210354/210354445/210354445-sml-1.jpg',\n",
       "     'alt_thumbnail_tag': 'A Prelude to Quantum Field Theory',\n",
       "     'price': 'Not Available'},\n",
       "    {'title': 'An Introduction to Space Weather',\n",
       "     'book_detail_url': '/en-in/book/336016/an-introduction-to-space-weather/mark-moldwin/',\n",
       "     'author': 'Mark Moldwin',\n",
       "     'author_url': '/en-in/author/mark-moldwin/125079/',\n",
       "     'cover_image_medium': 'https://image.ebooks.com/previews/000/000336/000336016/000336016-sml-1.jpg',\n",
       "     'alt_thumbnail_tag': 'An Introduction to Space Weather',\n",
       "     'price': 'US$43.00'},\n",
       "    {'title': 'An Introduction to Thermal Physics',\n",
       "     'book_detail_url': '/en-in/book/210186398/an-introduction-to-thermal-physics/daniel-v-schroeder/',\n",
       "     'author': 'Daniel V. Schroeder',\n",
       "     'author_url': '/en-in/author/daniel-v.-schroeder/362098/',\n",
       "     'cover_image_medium': 'https://image.ebooks.com/previews/210/210186/210186398/210186398-sml-1.jpg',\n",
       "     'alt_thumbnail_tag': 'An Introduction to Thermal Physics',\n",
       "     'price': 'US$35.09'}],\n",
       "   'selected': False},\n",
       "  {'name': 'Upcoming Titles',\n",
       "   'web_name': 'upcoming',\n",
       "   'books': [{'title': 'Among Flowers',\n",
       "     'book_detail_url': '/en-in/book/210593615/among-flowers/jamaica-kincaid/',\n",
       "     'author': 'Jamaica Kincaid',\n",
       "     'author_url': '/en-in/author/jamaica-kincaid/6039/',\n",
       "     'cover_image_medium': 'https://image.ebooks.com/previews/210/210593/210593615/210593615-sml-1.jpg',\n",
       "     'alt_thumbnail_tag': 'Among Flowers',\n",
       "     'price': 'US$6.07'},\n",
       "    {'title': 'Sands of Dune',\n",
       "     'book_detail_url': '/en-in/book/210503468/sands-of-dune/brian-herbert/',\n",
       "     'author': 'Brian Herbert',\n",
       "     'author_url': '/en-in/author/brian-herbert/9749/',\n",
       "     'cover_image_medium': 'https://image.ebooks.com/previews/210/210503/210503468/210503468-sml-1.jpg',\n",
       "     'alt_thumbnail_tag': 'Sands of Dune: Novellas from the world of Dune',\n",
       "     'price': 'US$19.99'},\n",
       "    {'title': 'Future Stories',\n",
       "     'book_detail_url': '/en-in/book/210477842/future-stories/david-christian/',\n",
       "     'author': 'David Christian',\n",
       "     'author_url': '/en-in/author/david-christian/18319/',\n",
       "     'cover_image_medium': 'https://image.ebooks.com/previews/210/210477/210477842/210477842-sml-1.jpg',\n",
       "     'alt_thumbnail_tag': \"Future Stories: A user's guide to the future\",\n",
       "     'price': 'US$16.71'},\n",
       "    {'title': 'Sacred Nature',\n",
       "     'book_detail_url': '/en-in/book/210345396/sacred-nature/karen-armstrong/',\n",
       "     'author': 'Karen Armstrong',\n",
       "     'author_url': '/en-in/author/karen-armstrong/62700/',\n",
       "     'cover_image_medium': 'https://image.ebooks.com/previews/210/210345/210345396/210345396-sml-1.jpg',\n",
       "     'alt_thumbnail_tag': 'Sacred Nature: How we can recover our bond with the natural world',\n",
       "     'price': 'US$12.54'},\n",
       "    {'title': 'Genetics and the Behavior of Domestic Animals',\n",
       "     'book_detail_url': '/en-in/book/210587840/genetics-and-the-behavior-of-domestic-animals/temple-grandin/',\n",
       "     'author': 'Temple Grandin',\n",
       "     'author_url': '/en-in/author/temple-grandin/76944/',\n",
       "     'cover_image_medium': 'https://image.ebooks.com/previews/210/210587/210587840/210587840-sml-1.jpg',\n",
       "     'alt_thumbnail_tag': 'Genetics and the Behavior of Domestic Animals',\n",
       "     'price': 'US$120.00'},\n",
       "    {'title': 'Into the Great Emptiness: Peril and Survival on the Greenland Ice Cap',\n",
       "     'book_detail_url': '/en-in/book/210406171/into-the-great-emptiness-peril-and-survival-on-the-greenland-ice-cap/david-roberts/',\n",
       "     'author': 'David Roberts',\n",
       "     'author_url': '/en-in/author/david-roberts/9417/',\n",
       "     'cover_image_medium': 'https://image.ebooks.com/previews/210/210406/210406171/210406171-sml-1.jpg',\n",
       "     'alt_thumbnail_tag': 'Into the Great Emptiness: Peril and Survival on the Greenland Ice Cap',\n",
       "     'price': 'US$26.23'},\n",
       "    {'title': 'An Immense World',\n",
       "     'book_detail_url': '/en-in/book/210364323/an-immense-world/ed-yong/',\n",
       "     'author': 'Ed Yong',\n",
       "     'author_url': '/en-in/author/ed-yong/1012345/',\n",
       "     'cover_image_medium': 'https://image.ebooks.com/previews/210/210364/210364323/210364323-sml-1.jpg',\n",
       "     'alt_thumbnail_tag': 'An Immense World: How Animal Senses Reveal the Hidden Realms Around Us',\n",
       "     'price': 'US$16.71'},\n",
       "    {'title': 'Elusive',\n",
       "     'book_detail_url': '/en-in/book/210477506/elusive/frank-close/',\n",
       "     'author': 'Frank Close',\n",
       "     'author_url': '/en-in/author/frank-close/91590/',\n",
       "     'cover_image_medium': 'https://image.ebooks.com/previews/210/210477/210477506/210477506-sml-1.jpg',\n",
       "     'alt_thumbnail_tag': 'Elusive: How Peter Higgs Solved the Mystery of Mass',\n",
       "     'price': 'US$20.89'},\n",
       "    {'title': 'Viral',\n",
       "     'book_detail_url': '/en-in/book/210570873/viral/matt-ridley/',\n",
       "     'author': 'Matt Ridley',\n",
       "     'author_url': '/en-in/author/matt-ridley/242861/',\n",
       "     'cover_image_medium': 'https://image.ebooks.com/previews/210/210570/210570873/210570873-sml-1.jpg',\n",
       "     'alt_thumbnail_tag': 'Viral: The Search for the Origin of Covid-19',\n",
       "     'price': 'US$10.47'},\n",
       "    {'title': \"Barron's Biology Practice Plus: 400+ Online Questions and Quick Study Review\",\n",
       "     'book_detail_url': '/en-in/book/210240210/barron-s-biology-practice-plus-400-online-questions-and-quick-study-review/deborah-t-goldberg/',\n",
       "     'author': 'Deborah T. Goldberg',\n",
       "     'author_url': '/en-in/author/deborah-t.-goldberg/94365362/',\n",
       "     'cover_image_medium': 'https://image.ebooks.com/previews/210/210240/210240210/210240210-sml-1.jpg',\n",
       "     'alt_thumbnail_tag': \"Barron's Biology Practice Plus: 400+ Online Questions and Quick Study Review\",\n",
       "     'price': 'US$9.11'}],\n",
       "   'selected': False}]}"
      ]
     },
     "execution_count": 4,
     "metadata": {},
     "output_type": "execute_result"
    }
   ],
   "source": [
    "response.json()"
   ]
  },
  {
   "cell_type": "code",
   "execution_count": 5,
   "id": "b607ff5d",
   "metadata": {},
   "outputs": [
    {
     "data": {
      "text/plain": [
       "dict"
      ]
     },
     "execution_count": 5,
     "metadata": {},
     "output_type": "execute_result"
    }
   ],
   "source": [
    "type(response.json())"
   ]
  },
  {
   "cell_type": "code",
   "execution_count": 6,
   "id": "846e118c",
   "metadata": {},
   "outputs": [
    {
     "data": {
      "text/plain": [
       "dict_keys(['tabs'])"
      ]
     },
     "execution_count": 6,
     "metadata": {},
     "output_type": "execute_result"
    }
   ],
   "source": [
    "response.json().keys()"
   ]
  },
  {
   "cell_type": "code",
   "execution_count": 7,
   "id": "298fe1b0",
   "metadata": {},
   "outputs": [
    {
     "data": {
      "text/plain": [
       "3"
      ]
     },
     "execution_count": 7,
     "metadata": {},
     "output_type": "execute_result"
    }
   ],
   "source": [
    "len(response.json()['tabs'])"
   ]
  },
  {
   "cell_type": "code",
   "execution_count": 8,
   "id": "c6e67721",
   "metadata": {},
   "outputs": [
    {
     "data": {
      "text/plain": [
       "[{'title': \"A Student's Guide to Special Relativity\",\n",
       "  'book_detail_url': '/en-in/book/210437085/a-student-s-guide-to-special-relativity/norman-gray/',\n",
       "  'author': 'Norman Gray',\n",
       "  'author_url': '/en-in/author/norman-gray/94360103/',\n",
       "  'cover_image_medium': 'https://image.ebooks.com/previews/210/210437/210437085/210437085-sml-1.jpg',\n",
       "  'alt_thumbnail_tag': \"A Student's Guide to Special Relativity\",\n",
       "  'price': 'US$19.00'},\n",
       " {'title': 'Geopedia',\n",
       "  'book_detail_url': '/en-in/book/210383461/geopedia/marcia-bjornerud/',\n",
       "  'author': 'Marcia Bjornerud',\n",
       "  'author_url': '/en-in/author/marcia-bjornerud/446066/',\n",
       "  'cover_image_medium': 'https://image.ebooks.com/previews/210/210383/210383461/210383461-sml-1.jpg',\n",
       "  'alt_thumbnail_tag': 'Geopedia: A Brief Compendium of Geologic Curiosities',\n",
       "  'price': 'Not Available'},\n",
       " {'title': 'What Is Science? A Guide For Those Who Love It, Hate It, Or Fear It',\n",
       "  'book_detail_url': '/en-in/book/210273008/what-is-science-a-guide-for-those-who-love-it-hate-it-or-fear-it/elof-axel-carlson/',\n",
       "  'author': 'Elof Axel Carlson',\n",
       "  'author_url': '/en-in/author/elof-axel-carlson/548278/',\n",
       "  'cover_image_medium': 'https://image.ebooks.com/previews/210/210273/210273008/210273008-sml-1.jpg',\n",
       "  'alt_thumbnail_tag': 'What Is Science? A Guide For Those Who Love It, Hate It, Or Fear It',\n",
       "  'price': 'US$20.02'},\n",
       " {'title': 'Everybody Hertz',\n",
       "  'book_detail_url': '/en-in/book/210332305/everybody-hertz/richard-mainwaring/',\n",
       "  'author': 'Richard Mainwaring',\n",
       "  'author_url': '/en-in/author/richard-mainwaring/208586446/',\n",
       "  'cover_image_medium': 'https://image.ebooks.com/previews/210/210332/210332305/210332305-sml-1.jpg',\n",
       "  'alt_thumbnail_tag': 'Everybody Hertz: The Amazing World of Frequency, from Bad Vibes to Good Vibrations',\n",
       "  'price': 'US$18.99'},\n",
       " {'title': 'Must Know High School Chemistry, Second Edition',\n",
       "  'book_detail_url': '/en-in/book/210562540/must-know-high-school-chemistry-second-edition/john-t-moore/',\n",
       "  'author': 'John T. Moore',\n",
       "  'author_url': '/en-in/author/john-t.-moore/131301/',\n",
       "  'cover_image_medium': 'https://image.ebooks.com/previews/210/210562/210562540/210562540-sml-1.jpg',\n",
       "  'alt_thumbnail_tag': 'Must Know High School Chemistry, Second Edition',\n",
       "  'price': 'US$13.50'},\n",
       " {'title': 'Different',\n",
       "  'book_detail_url': '/en-in/book/210363184/different/frans-de-waal/',\n",
       "  'author': 'Frans de Waal',\n",
       "  'author_url': '/en-in/author/frans-de-waal/94851/',\n",
       "  'cover_image_medium': 'https://image.ebooks.com/previews/210/210363/210363184/210363184-sml-1.jpg',\n",
       "  'alt_thumbnail_tag': 'Different: What Apes Can Teach Us About Gender',\n",
       "  'price': 'US$24.53'},\n",
       " {'title': 'Physics I: 501 Practice Problems For Dummies (+ Free Online Practice)',\n",
       "  'book_detail_url': '/en-in/book/210551364/physics-i-501-practice-problems-for-dummies-free-online-practice/the-experts-at-dummies/',\n",
       "  'author': 'The Experts at Dummies',\n",
       "  'author_url': '/en-in/author/the-experts-at-dummies/208618158/',\n",
       "  'cover_image_medium': 'https://image.ebooks.com/previews/210/210551/210551364/210551364-sml-1.jpg',\n",
       "  'alt_thumbnail_tag': 'Physics I: 501 Practice Problems For Dummies (+ Free Online Practice)',\n",
       "  'price': 'US$26.50'},\n",
       " {'title': 'Brain Fever: How Vaccines Prevent Meningitis And Other Killer Diseases',\n",
       "  'book_detail_url': '/en-in/book/210336743/brain-fever-how-vaccines-prevent-meningitis-and-other-killer-diseases/richard-moxon/',\n",
       "  'author': 'Richard Moxon',\n",
       "  'author_url': '/en-in/author/richard-moxon/208588696/',\n",
       "  'cover_image_medium': 'https://image.ebooks.com/previews/210/210336/210336743/210336743-sml-1.jpg',\n",
       "  'alt_thumbnail_tag': 'Brain Fever: How Vaccines Prevent Meningitis And Other Killer Diseases',\n",
       "  'price': 'US$16.38'},\n",
       " {'title': 'A Field Guide to Climate Anxiety',\n",
       "  'book_detail_url': '/en-in/book/209936986/a-field-guide-to-climate-anxiety/sarah-jaquette-ray/',\n",
       "  'author': 'Sarah Jaquette Ray',\n",
       "  'author_url': '/en-in/author/sarah-jaquette-ray/1334167/',\n",
       "  'cover_image_medium': 'https://image.ebooks.com/previews/209/209936/209936986/209936986-sml-1.jpg',\n",
       "  'alt_thumbnail_tag': 'A Field Guide to Climate Anxiety: How to Keep Your Cool on a Warming Planet',\n",
       "  'price': 'US$16.95'},\n",
       " {'title': 'The Lives of Fungi',\n",
       "  'book_detail_url': '/en-in/book/210376626/the-lives-of-fungi/britt-bunyard/',\n",
       "  'author': 'Britt Bunyard',\n",
       "  'author_url': '/en-in/author/britt-bunyard/208520405/',\n",
       "  'cover_image_medium': 'https://image.ebooks.com/previews/210/210376/210376626/210376626-sml-1.jpg',\n",
       "  'alt_thumbnail_tag': \"The Lives of Fungi: A Natural History of Our Planet's Decomposers\",\n",
       "  'price': 'Not Available'},\n",
       " {'title': 'The Matter of Everything',\n",
       "  'book_detail_url': '/en-in/book/210520455/the-matter-of-everything/suzie-sheehy/',\n",
       "  'author': 'Suzie Sheehy',\n",
       "  'author_url': '/en-in/author/suzie-sheehy/208661047/',\n",
       "  'cover_image_medium': 'https://image.ebooks.com/previews/210/210520/210520455/210520455-sml-1.jpg',\n",
       "  'alt_thumbnail_tag': 'The Matter of Everything: Twelve Experiments that Changed Our World',\n",
       "  'price': 'US$20.60'},\n",
       " {'title': 'What Is a Quantum Field Theory?',\n",
       "  'book_detail_url': '/en-in/book/210499348/what-is-a-quantum-field-theory/michel-talagrand/',\n",
       "  'author': 'Michel Talagrand',\n",
       "  'author_url': '/en-in/author/michel-talagrand/69039/',\n",
       "  'cover_image_medium': 'https://image.ebooks.com/previews/210/210499/210499348/210499348-sml-1.jpg',\n",
       "  'alt_thumbnail_tag': 'What Is a Quantum Field Theory?',\n",
       "  'price': 'US$72.00'}]"
      ]
     },
     "execution_count": 8,
     "metadata": {},
     "output_type": "execute_result"
    }
   ],
   "source": [
    "response.json()['tabs'][0]['books']"
   ]
  },
  {
   "cell_type": "code",
   "execution_count": 9,
   "id": "041536f3",
   "metadata": {},
   "outputs": [
    {
     "data": {
      "text/plain": [
       "12"
      ]
     },
     "execution_count": 9,
     "metadata": {},
     "output_type": "execute_result"
    }
   ],
   "source": [
    "len(response.json()['tabs'][0]['books'])"
   ]
  },
  {
   "cell_type": "code",
   "execution_count": 10,
   "id": "57d4a120",
   "metadata": {},
   "outputs": [],
   "source": [
    "result_json = response.json()['tabs'][0]['books']"
   ]
  },
  {
   "cell_type": "code",
   "execution_count": 11,
   "id": "fc4fdb20",
   "metadata": {},
   "outputs": [
    {
     "data": {
      "text/plain": [
       "'Geopedia'"
      ]
     },
     "execution_count": 11,
     "metadata": {},
     "output_type": "execute_result"
    }
   ],
   "source": [
    "result_json[1]['title']"
   ]
  },
  {
   "cell_type": "code",
   "execution_count": 12,
   "id": "c28fa43d",
   "metadata": {},
   "outputs": [],
   "source": [
    "title = []\n",
    "author = []\n",
    "price = []\n",
    "\n",
    "for result in result_json:\n",
    "    title.append(result['title'])\n",
    "    author.append(result['author'])\n",
    "    price.append(result['price'])"
   ]
  },
  {
   "cell_type": "code",
   "execution_count": 13,
   "id": "7ce01b7c",
   "metadata": {},
   "outputs": [
    {
     "data": {
      "text/plain": [
       "([\"A Student's Guide to Special Relativity\",\n",
       "  'Geopedia',\n",
       "  'What Is Science? A Guide For Those Who Love It, Hate It, Or Fear It',\n",
       "  'Everybody Hertz',\n",
       "  'Must Know High School Chemistry, Second Edition',\n",
       "  'Different',\n",
       "  'Physics I: 501 Practice Problems For Dummies (+ Free Online Practice)',\n",
       "  'Brain Fever: How Vaccines Prevent Meningitis And Other Killer Diseases',\n",
       "  'A Field Guide to Climate Anxiety',\n",
       "  'The Lives of Fungi',\n",
       "  'The Matter of Everything',\n",
       "  'What Is a Quantum Field Theory?'],\n",
       " ['Norman Gray',\n",
       "  'Marcia Bjornerud',\n",
       "  'Elof Axel Carlson',\n",
       "  'Richard Mainwaring',\n",
       "  'John T. Moore',\n",
       "  'Frans de Waal',\n",
       "  'The Experts at Dummies',\n",
       "  'Richard Moxon',\n",
       "  'Sarah Jaquette Ray',\n",
       "  'Britt Bunyard',\n",
       "  'Suzie Sheehy',\n",
       "  'Michel Talagrand'],\n",
       " ['US$19.00',\n",
       "  'Not Available',\n",
       "  'US$20.02',\n",
       "  'US$18.99',\n",
       "  'US$13.50',\n",
       "  'US$24.53',\n",
       "  'US$26.50',\n",
       "  'US$16.38',\n",
       "  'US$16.95',\n",
       "  'Not Available',\n",
       "  'US$20.60',\n",
       "  'US$72.00'])"
      ]
     },
     "execution_count": 13,
     "metadata": {},
     "output_type": "execute_result"
    }
   ],
   "source": [
    "title, author, price"
   ]
  },
  {
   "cell_type": "code",
   "execution_count": 14,
   "id": "4959ce2f",
   "metadata": {},
   "outputs": [
    {
     "data": {
      "text/plain": [
       "12"
      ]
     },
     "execution_count": 14,
     "metadata": {},
     "output_type": "execute_result"
    }
   ],
   "source": [
    "len(title)"
   ]
  },
  {
   "cell_type": "code",
   "execution_count": 15,
   "id": "d058ee8c",
   "metadata": {},
   "outputs": [],
   "source": [
    "book_df = pd.DataFrame({'Title':title,'Author':author, 'Price':price})"
   ]
  },
  {
   "cell_type": "code",
   "execution_count": 16,
   "id": "6ec2918b",
   "metadata": {},
   "outputs": [
    {
     "data": {
      "text/html": [
       "<div>\n",
       "<style scoped>\n",
       "    .dataframe tbody tr th:only-of-type {\n",
       "        vertical-align: middle;\n",
       "    }\n",
       "\n",
       "    .dataframe tbody tr th {\n",
       "        vertical-align: top;\n",
       "    }\n",
       "\n",
       "    .dataframe thead th {\n",
       "        text-align: right;\n",
       "    }\n",
       "</style>\n",
       "<table border=\"1\" class=\"dataframe\">\n",
       "  <thead>\n",
       "    <tr style=\"text-align: right;\">\n",
       "      <th></th>\n",
       "      <th>Title</th>\n",
       "      <th>Author</th>\n",
       "      <th>Price</th>\n",
       "    </tr>\n",
       "  </thead>\n",
       "  <tbody>\n",
       "    <tr>\n",
       "      <th>0</th>\n",
       "      <td>A Student's Guide to Special Relativity</td>\n",
       "      <td>Norman Gray</td>\n",
       "      <td>US$19.00</td>\n",
       "    </tr>\n",
       "    <tr>\n",
       "      <th>1</th>\n",
       "      <td>Geopedia</td>\n",
       "      <td>Marcia Bjornerud</td>\n",
       "      <td>Not Available</td>\n",
       "    </tr>\n",
       "    <tr>\n",
       "      <th>2</th>\n",
       "      <td>What Is Science? A Guide For Those Who Love It...</td>\n",
       "      <td>Elof Axel Carlson</td>\n",
       "      <td>US$20.02</td>\n",
       "    </tr>\n",
       "    <tr>\n",
       "      <th>3</th>\n",
       "      <td>Everybody Hertz</td>\n",
       "      <td>Richard Mainwaring</td>\n",
       "      <td>US$18.99</td>\n",
       "    </tr>\n",
       "    <tr>\n",
       "      <th>4</th>\n",
       "      <td>Must Know High School Chemistry, Second Edition</td>\n",
       "      <td>John T. Moore</td>\n",
       "      <td>US$13.50</td>\n",
       "    </tr>\n",
       "    <tr>\n",
       "      <th>5</th>\n",
       "      <td>Different</td>\n",
       "      <td>Frans de Waal</td>\n",
       "      <td>US$24.53</td>\n",
       "    </tr>\n",
       "    <tr>\n",
       "      <th>6</th>\n",
       "      <td>Physics I: 501 Practice Problems For Dummies (...</td>\n",
       "      <td>The Experts at Dummies</td>\n",
       "      <td>US$26.50</td>\n",
       "    </tr>\n",
       "    <tr>\n",
       "      <th>7</th>\n",
       "      <td>Brain Fever: How Vaccines Prevent Meningitis A...</td>\n",
       "      <td>Richard Moxon</td>\n",
       "      <td>US$16.38</td>\n",
       "    </tr>\n",
       "    <tr>\n",
       "      <th>8</th>\n",
       "      <td>A Field Guide to Climate Anxiety</td>\n",
       "      <td>Sarah Jaquette Ray</td>\n",
       "      <td>US$16.95</td>\n",
       "    </tr>\n",
       "    <tr>\n",
       "      <th>9</th>\n",
       "      <td>The Lives of Fungi</td>\n",
       "      <td>Britt Bunyard</td>\n",
       "      <td>Not Available</td>\n",
       "    </tr>\n",
       "    <tr>\n",
       "      <th>10</th>\n",
       "      <td>The Matter of Everything</td>\n",
       "      <td>Suzie Sheehy</td>\n",
       "      <td>US$20.60</td>\n",
       "    </tr>\n",
       "    <tr>\n",
       "      <th>11</th>\n",
       "      <td>What Is a Quantum Field Theory?</td>\n",
       "      <td>Michel Talagrand</td>\n",
       "      <td>US$72.00</td>\n",
       "    </tr>\n",
       "  </tbody>\n",
       "</table>\n",
       "</div>"
      ],
      "text/plain": [
       "                                                Title                  Author  \\\n",
       "0             A Student's Guide to Special Relativity             Norman Gray   \n",
       "1                                            Geopedia        Marcia Bjornerud   \n",
       "2   What Is Science? A Guide For Those Who Love It...       Elof Axel Carlson   \n",
       "3                                     Everybody Hertz      Richard Mainwaring   \n",
       "4     Must Know High School Chemistry, Second Edition           John T. Moore   \n",
       "5                                           Different           Frans de Waal   \n",
       "6   Physics I: 501 Practice Problems For Dummies (...  The Experts at Dummies   \n",
       "7   Brain Fever: How Vaccines Prevent Meningitis A...           Richard Moxon   \n",
       "8                    A Field Guide to Climate Anxiety      Sarah Jaquette Ray   \n",
       "9                                  The Lives of Fungi           Britt Bunyard   \n",
       "10                           The Matter of Everything            Suzie Sheehy   \n",
       "11                    What Is a Quantum Field Theory?        Michel Talagrand   \n",
       "\n",
       "            Price  \n",
       "0        US$19.00  \n",
       "1   Not Available  \n",
       "2        US$20.02  \n",
       "3        US$18.99  \n",
       "4        US$13.50  \n",
       "5        US$24.53  \n",
       "6        US$26.50  \n",
       "7        US$16.38  \n",
       "8        US$16.95  \n",
       "9   Not Available  \n",
       "10       US$20.60  \n",
       "11       US$72.00  "
      ]
     },
     "execution_count": 16,
     "metadata": {},
     "output_type": "execute_result"
    }
   ],
   "source": [
    "book_df"
   ]
  },
  {
   "cell_type": "code",
   "execution_count": 17,
   "id": "78f1aae1",
   "metadata": {},
   "outputs": [],
   "source": [
    "book_df.to_excel('books.xlsx',index=False)"
   ]
  },
  {
   "cell_type": "code",
   "execution_count": 18,
   "id": "217ab0c8",
   "metadata": {},
   "outputs": [],
   "source": [
    "df = book_df.copy(deep = True)"
   ]
  },
  {
   "cell_type": "code",
   "execution_count": 19,
   "id": "c4839b46",
   "metadata": {},
   "outputs": [
    {
     "data": {
      "text/html": [
       "<div>\n",
       "<style scoped>\n",
       "    .dataframe tbody tr th:only-of-type {\n",
       "        vertical-align: middle;\n",
       "    }\n",
       "\n",
       "    .dataframe tbody tr th {\n",
       "        vertical-align: top;\n",
       "    }\n",
       "\n",
       "    .dataframe thead th {\n",
       "        text-align: right;\n",
       "    }\n",
       "</style>\n",
       "<table border=\"1\" class=\"dataframe\">\n",
       "  <thead>\n",
       "    <tr style=\"text-align: right;\">\n",
       "      <th></th>\n",
       "      <th>Title</th>\n",
       "      <th>Author</th>\n",
       "      <th>Price</th>\n",
       "    </tr>\n",
       "  </thead>\n",
       "  <tbody>\n",
       "    <tr>\n",
       "      <th>0</th>\n",
       "      <td>A Student's Guide to Special Relativity</td>\n",
       "      <td>Norman Gray</td>\n",
       "      <td>US$19.00</td>\n",
       "    </tr>\n",
       "    <tr>\n",
       "      <th>1</th>\n",
       "      <td>Geopedia</td>\n",
       "      <td>Marcia Bjornerud</td>\n",
       "      <td>Not Available</td>\n",
       "    </tr>\n",
       "    <tr>\n",
       "      <th>2</th>\n",
       "      <td>What Is Science? A Guide For Those Who Love It...</td>\n",
       "      <td>Elof Axel Carlson</td>\n",
       "      <td>US$20.02</td>\n",
       "    </tr>\n",
       "    <tr>\n",
       "      <th>3</th>\n",
       "      <td>Everybody Hertz</td>\n",
       "      <td>Richard Mainwaring</td>\n",
       "      <td>US$18.99</td>\n",
       "    </tr>\n",
       "    <tr>\n",
       "      <th>4</th>\n",
       "      <td>Must Know High School Chemistry, Second Edition</td>\n",
       "      <td>John T. Moore</td>\n",
       "      <td>US$13.50</td>\n",
       "    </tr>\n",
       "  </tbody>\n",
       "</table>\n",
       "</div>"
      ],
      "text/plain": [
       "                                               Title              Author  \\\n",
       "0            A Student's Guide to Special Relativity         Norman Gray   \n",
       "1                                           Geopedia    Marcia Bjornerud   \n",
       "2  What Is Science? A Guide For Those Who Love It...   Elof Axel Carlson   \n",
       "3                                    Everybody Hertz  Richard Mainwaring   \n",
       "4    Must Know High School Chemistry, Second Edition       John T. Moore   \n",
       "\n",
       "           Price  \n",
       "0       US$19.00  \n",
       "1  Not Available  \n",
       "2       US$20.02  \n",
       "3       US$18.99  \n",
       "4       US$13.50  "
      ]
     },
     "execution_count": 19,
     "metadata": {},
     "output_type": "execute_result"
    }
   ],
   "source": [
    "df.head()"
   ]
  },
  {
   "cell_type": "code",
   "execution_count": 20,
   "id": "6cf987b5",
   "metadata": {},
   "outputs": [],
   "source": [
    "df['Price'] = df['Price'].replace(0, 'Not Available',inplace = True)"
   ]
  },
  {
   "cell_type": "code",
   "execution_count": 21,
   "id": "67efb940",
   "metadata": {},
   "outputs": [
    {
     "data": {
      "text/plain": [
       "Title      0\n",
       "Author     0\n",
       "Price     12\n",
       "dtype: int64"
      ]
     },
     "execution_count": 21,
     "metadata": {},
     "output_type": "execute_result"
    }
   ],
   "source": [
    "df.isna().sum()"
   ]
  },
  {
   "cell_type": "code",
   "execution_count": 22,
   "id": "92393b29",
   "metadata": {},
   "outputs": [
    {
     "data": {
      "text/html": [
       "<div>\n",
       "<style scoped>\n",
       "    .dataframe tbody tr th:only-of-type {\n",
       "        vertical-align: middle;\n",
       "    }\n",
       "\n",
       "    .dataframe tbody tr th {\n",
       "        vertical-align: top;\n",
       "    }\n",
       "\n",
       "    .dataframe thead th {\n",
       "        text-align: right;\n",
       "    }\n",
       "</style>\n",
       "<table border=\"1\" class=\"dataframe\">\n",
       "  <thead>\n",
       "    <tr style=\"text-align: right;\">\n",
       "      <th></th>\n",
       "      <th>Title</th>\n",
       "      <th>Author</th>\n",
       "      <th>Price</th>\n",
       "    </tr>\n",
       "  </thead>\n",
       "  <tbody>\n",
       "    <tr>\n",
       "      <th>0</th>\n",
       "      <td>A Student's Guide to Special Relativity</td>\n",
       "      <td>Norman Gray</td>\n",
       "      <td>None</td>\n",
       "    </tr>\n",
       "    <tr>\n",
       "      <th>1</th>\n",
       "      <td>Geopedia</td>\n",
       "      <td>Marcia Bjornerud</td>\n",
       "      <td>None</td>\n",
       "    </tr>\n",
       "    <tr>\n",
       "      <th>2</th>\n",
       "      <td>What Is Science? A Guide For Those Who Love It...</td>\n",
       "      <td>Elof Axel Carlson</td>\n",
       "      <td>None</td>\n",
       "    </tr>\n",
       "    <tr>\n",
       "      <th>3</th>\n",
       "      <td>Everybody Hertz</td>\n",
       "      <td>Richard Mainwaring</td>\n",
       "      <td>None</td>\n",
       "    </tr>\n",
       "    <tr>\n",
       "      <th>4</th>\n",
       "      <td>Must Know High School Chemistry, Second Edition</td>\n",
       "      <td>John T. Moore</td>\n",
       "      <td>None</td>\n",
       "    </tr>\n",
       "  </tbody>\n",
       "</table>\n",
       "</div>"
      ],
      "text/plain": [
       "                                               Title              Author Price\n",
       "0            A Student's Guide to Special Relativity         Norman Gray  None\n",
       "1                                           Geopedia    Marcia Bjornerud  None\n",
       "2  What Is Science? A Guide For Those Who Love It...   Elof Axel Carlson  None\n",
       "3                                    Everybody Hertz  Richard Mainwaring  None\n",
       "4    Must Know High School Chemistry, Second Edition       John T. Moore  None"
      ]
     },
     "execution_count": 22,
     "metadata": {},
     "output_type": "execute_result"
    }
   ],
   "source": [
    "df.head()"
   ]
  },
  {
   "cell_type": "code",
   "execution_count": null,
   "id": "cf51da2b",
   "metadata": {},
   "outputs": [],
   "source": []
  }
 ],
 "metadata": {
  "kernelspec": {
   "display_name": "Python 3 (ipykernel)",
   "language": "python",
   "name": "python3"
  },
  "language_info": {
   "codemirror_mode": {
    "name": "ipython",
    "version": 3
   },
   "file_extension": ".py",
   "mimetype": "text/x-python",
   "name": "python",
   "nbconvert_exporter": "python",
   "pygments_lexer": "ipython3",
   "version": "3.8.5"
  }
 },
 "nbformat": 4,
 "nbformat_minor": 5
}
